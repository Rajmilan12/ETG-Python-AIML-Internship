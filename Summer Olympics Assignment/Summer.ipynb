{
  "nbformat": 4,
  "nbformat_minor": 0,
  "metadata": {
    "kernelspec": {
      "display_name": "Python 2",
      "language": "python",
      "name": "python2"
    },
    "language_info": {
      "codemirror_mode": {
        "name": "ipython",
        "version": 2
      },
      "file_extension": ".py",
      "mimetype": "text/x-python",
      "name": "python",
      "nbconvert_exporter": "python",
      "pygments_lexer": "ipython2",
      "version": "2.7.16"
    },
    "colab": {
      "name": "Summer.ipynb",
      "provenance": [],
      "collapsed_sections": []
    }
  },
  "cells": [
    {
      "cell_type": "markdown",
      "metadata": {
        "id": "lTzLNoS34JUL"
      },
      "source": [
        "# Summer Olympics Data Analysis Assignment"
      ]
    },
    {
      "cell_type": "code",
      "metadata": {
        "id": "_Us7sMjm4MCG"
      },
      "source": [
        "#First of all we need to import numpy, pandas for working with datasets.\n",
        "import numpy as np\n",
        "import pandas as pd\n",
        "import matplotlib.pyplot as plt"
      ],
      "execution_count": 3,
      "outputs": []
    },
    {
      "cell_type": "code",
      "metadata": {
        "id": "YGyXomm-4noO"
      },
      "source": [
        "# We need to read the csv dataset using pandas and convert it to dataframe\n",
        "df = pd.read_csv('summer.csv')"
      ],
      "execution_count": 4,
      "outputs": []
    },
    {
      "cell_type": "code",
      "metadata": {
        "colab": {
          "base_uri": "https://localhost:8080/"
        },
        "id": "785M0H3V44mi",
        "outputId": "a2e9f7f7-cffe-43b7-d94a-5a40d74cfaf3"
      },
      "source": [
        "#printing the no. of rows and columns and the dataframe\n",
        "df.info()"
      ],
      "execution_count": 5,
      "outputs": [
        {
          "output_type": "stream",
          "name": "stdout",
          "text": [
            "<class 'pandas.core.frame.DataFrame'>\n",
            "RangeIndex: 31165 entries, 0 to 31164\n",
            "Data columns (total 9 columns):\n",
            "Year          31165 non-null int64\n",
            "City          31165 non-null object\n",
            "Sport         31165 non-null object\n",
            "Discipline    31165 non-null object\n",
            "Athlete       31165 non-null object\n",
            "Country       31161 non-null object\n",
            "Gender        31165 non-null object\n",
            "Event         31165 non-null object\n",
            "Medal         31165 non-null object\n",
            "dtypes: int64(1), object(8)\n",
            "memory usage: 2.1+ MB\n"
          ]
        }
      ]
    },
    {
      "cell_type": "code",
      "metadata": {
        "colab": {
          "base_uri": "https://localhost:8080/",
          "height": 295
        },
        "id": "Vt88bu9mnM4G",
        "outputId": "207ffa03-4bf4-4a3f-a67f-15b64f8f61cc"
      },
      "source": [
        "df.describe()"
      ],
      "execution_count": 6,
      "outputs": [
        {
          "output_type": "execute_result",
          "data": {
            "text/plain": [
              "               Year\n",
              "count  31165.000000\n",
              "mean    1970.482785\n",
              "std       33.158416\n",
              "min     1896.000000\n",
              "25%     1948.000000\n",
              "50%     1980.000000\n",
              "75%     2000.000000\n",
              "max     2012.000000"
            ],
            "text/html": [
              "<div>\n",
              "<style scoped>\n",
              "    .dataframe tbody tr th:only-of-type {\n",
              "        vertical-align: middle;\n",
              "    }\n",
              "\n",
              "    .dataframe tbody tr th {\n",
              "        vertical-align: top;\n",
              "    }\n",
              "\n",
              "    .dataframe thead th {\n",
              "        text-align: right;\n",
              "    }\n",
              "</style>\n",
              "<table border=\"1\" class=\"dataframe\">\n",
              "  <thead>\n",
              "    <tr style=\"text-align: right;\">\n",
              "      <th></th>\n",
              "      <th>Year</th>\n",
              "    </tr>\n",
              "  </thead>\n",
              "  <tbody>\n",
              "    <tr>\n",
              "      <th>count</th>\n",
              "      <td>31165.000000</td>\n",
              "    </tr>\n",
              "    <tr>\n",
              "      <th>mean</th>\n",
              "      <td>1970.482785</td>\n",
              "    </tr>\n",
              "    <tr>\n",
              "      <th>std</th>\n",
              "      <td>33.158416</td>\n",
              "    </tr>\n",
              "    <tr>\n",
              "      <th>min</th>\n",
              "      <td>1896.000000</td>\n",
              "    </tr>\n",
              "    <tr>\n",
              "      <th>25%</th>\n",
              "      <td>1948.000000</td>\n",
              "    </tr>\n",
              "    <tr>\n",
              "      <th>50%</th>\n",
              "      <td>1980.000000</td>\n",
              "    </tr>\n",
              "    <tr>\n",
              "      <th>75%</th>\n",
              "      <td>2000.000000</td>\n",
              "    </tr>\n",
              "    <tr>\n",
              "      <th>max</th>\n",
              "      <td>2012.000000</td>\n",
              "    </tr>\n",
              "  </tbody>\n",
              "</table>\n",
              "</div>"
            ]
          },
          "metadata": {},
          "execution_count": 6
        }
      ]
    },
    {
      "cell_type": "code",
      "metadata": {
        "colab": {
          "base_uri": "https://localhost:8080/"
        },
        "id": "f6dfL3wb_G1y",
        "outputId": "e48a416c-a8e0-4c80-f3ce-62b170e572a2"
      },
      "source": [
        "#No. of null values in DataFrame\n",
        "df.isnull().sum()"
      ],
      "execution_count": 7,
      "outputs": [
        {
          "output_type": "execute_result",
          "data": {
            "text/plain": [
              "Year          0\n",
              "City          0\n",
              "Sport         0\n",
              "Discipline    0\n",
              "Athlete       0\n",
              "Country       4\n",
              "Gender        0\n",
              "Event         0\n",
              "Medal         0\n",
              "dtype: int64"
            ]
          },
          "metadata": {},
          "execution_count": 7
        }
      ]
    },
    {
      "cell_type": "code",
      "metadata": {
        "colab": {
          "base_uri": "https://localhost:8080/",
          "height": 203
        },
        "id": "hwcdt3yP5cy4",
        "outputId": "7436429a-b244-4f26-f67c-e787cd43489b"
      },
      "source": [
        "df.head()"
      ],
      "execution_count": 8,
      "outputs": [
        {
          "output_type": "execute_result",
          "data": {
            "text/plain": [
              "   Year    City     Sport Discipline             Athlete Country Gender  \\\n",
              "0  1896  Athens  Aquatics   Swimming       HAJOS, Alfred     HUN    Men   \n",
              "1  1896  Athens  Aquatics   Swimming    HERSCHMANN, Otto     AUT    Men   \n",
              "2  1896  Athens  Aquatics   Swimming   DRIVAS, Dimitrios     GRE    Men   \n",
              "3  1896  Athens  Aquatics   Swimming  MALOKINIS, Ioannis     GRE    Men   \n",
              "4  1896  Athens  Aquatics   Swimming  CHASAPIS, Spiridon     GRE    Men   \n",
              "\n",
              "                        Event   Medal  \n",
              "0              100M Freestyle    Gold  \n",
              "1              100M Freestyle  Silver  \n",
              "2  100M Freestyle For Sailors  Bronze  \n",
              "3  100M Freestyle For Sailors    Gold  \n",
              "4  100M Freestyle For Sailors  Silver  "
            ],
            "text/html": [
              "<div>\n",
              "<style scoped>\n",
              "    .dataframe tbody tr th:only-of-type {\n",
              "        vertical-align: middle;\n",
              "    }\n",
              "\n",
              "    .dataframe tbody tr th {\n",
              "        vertical-align: top;\n",
              "    }\n",
              "\n",
              "    .dataframe thead th {\n",
              "        text-align: right;\n",
              "    }\n",
              "</style>\n",
              "<table border=\"1\" class=\"dataframe\">\n",
              "  <thead>\n",
              "    <tr style=\"text-align: right;\">\n",
              "      <th></th>\n",
              "      <th>Year</th>\n",
              "      <th>City</th>\n",
              "      <th>Sport</th>\n",
              "      <th>Discipline</th>\n",
              "      <th>Athlete</th>\n",
              "      <th>Country</th>\n",
              "      <th>Gender</th>\n",
              "      <th>Event</th>\n",
              "      <th>Medal</th>\n",
              "    </tr>\n",
              "  </thead>\n",
              "  <tbody>\n",
              "    <tr>\n",
              "      <th>0</th>\n",
              "      <td>1896</td>\n",
              "      <td>Athens</td>\n",
              "      <td>Aquatics</td>\n",
              "      <td>Swimming</td>\n",
              "      <td>HAJOS, Alfred</td>\n",
              "      <td>HUN</td>\n",
              "      <td>Men</td>\n",
              "      <td>100M Freestyle</td>\n",
              "      <td>Gold</td>\n",
              "    </tr>\n",
              "    <tr>\n",
              "      <th>1</th>\n",
              "      <td>1896</td>\n",
              "      <td>Athens</td>\n",
              "      <td>Aquatics</td>\n",
              "      <td>Swimming</td>\n",
              "      <td>HERSCHMANN, Otto</td>\n",
              "      <td>AUT</td>\n",
              "      <td>Men</td>\n",
              "      <td>100M Freestyle</td>\n",
              "      <td>Silver</td>\n",
              "    </tr>\n",
              "    <tr>\n",
              "      <th>2</th>\n",
              "      <td>1896</td>\n",
              "      <td>Athens</td>\n",
              "      <td>Aquatics</td>\n",
              "      <td>Swimming</td>\n",
              "      <td>DRIVAS, Dimitrios</td>\n",
              "      <td>GRE</td>\n",
              "      <td>Men</td>\n",
              "      <td>100M Freestyle For Sailors</td>\n",
              "      <td>Bronze</td>\n",
              "    </tr>\n",
              "    <tr>\n",
              "      <th>3</th>\n",
              "      <td>1896</td>\n",
              "      <td>Athens</td>\n",
              "      <td>Aquatics</td>\n",
              "      <td>Swimming</td>\n",
              "      <td>MALOKINIS, Ioannis</td>\n",
              "      <td>GRE</td>\n",
              "      <td>Men</td>\n",
              "      <td>100M Freestyle For Sailors</td>\n",
              "      <td>Gold</td>\n",
              "    </tr>\n",
              "    <tr>\n",
              "      <th>4</th>\n",
              "      <td>1896</td>\n",
              "      <td>Athens</td>\n",
              "      <td>Aquatics</td>\n",
              "      <td>Swimming</td>\n",
              "      <td>CHASAPIS, Spiridon</td>\n",
              "      <td>GRE</td>\n",
              "      <td>Men</td>\n",
              "      <td>100M Freestyle For Sailors</td>\n",
              "      <td>Silver</td>\n",
              "    </tr>\n",
              "  </tbody>\n",
              "</table>\n",
              "</div>"
            ]
          },
          "metadata": {},
          "execution_count": 8
        }
      ]
    },
    {
      "cell_type": "markdown",
      "metadata": {
        "id": "dxszV4cf4JUY"
      },
      "source": [
        "### 1. In how many cities Summer Olympics is held so far?"
      ]
    },
    {
      "cell_type": "code",
      "metadata": {
        "colab": {
          "base_uri": "https://localhost:8080/"
        },
        "id": "NvIOlOFh4JUa",
        "outputId": "858b4e77-8531-4d77-afd6-a4502294541e"
      },
      "source": [
        "#To find the no. of cities in which Summer Olympics is held so far, we need to use unique() property\n",
        "print('The total no. of Cities in which Summer Olympics has been held so far are:  {}'.format(len(df['City'].unique())))\n",
        "print('The names of the Cities are: ')\n",
        "for city in df['City'].unique():\n",
        "  print(city)"
      ],
      "execution_count": 9,
      "outputs": [
        {
          "output_type": "stream",
          "name": "stdout",
          "text": [
            "The total no. of Cities in which Summer Olympics has been held so far are:  22\n",
            "The names of the Cities are: \n",
            "Athens\n",
            "Paris\n",
            "St Louis\n",
            "London\n",
            "Stockholm\n",
            "Antwerp\n",
            "Amsterdam\n",
            "Los Angeles\n",
            "Berlin\n",
            "Helsinki\n",
            "Melbourne / Stockholm\n",
            "Rome\n",
            "Tokyo\n",
            "Mexico\n",
            "Munich\n",
            "Montreal\n",
            "Moscow\n",
            "Seoul\n",
            "Barcelona\n",
            "Atlanta\n",
            "Sydney\n",
            "Beijing\n"
          ]
        }
      ]
    },
    {
      "cell_type": "markdown",
      "metadata": {
        "id": "s8Nrcwp04JUc"
      },
      "source": [
        "### 2. Which sport is having most number of Gold Medals so far? (Top 5)"
      ]
    },
    {
      "cell_type": "code",
      "metadata": {
        "colab": {
          "base_uri": "https://localhost:8080/"
        },
        "id": "8lVVZW5894u1",
        "outputId": "a0306d44-ec45-4172-8cad-a6832c269ae8"
      },
      "source": [
        "print('Total no. of Gold Medals ',len(df[df['Medal']=='Gold']))"
      ],
      "execution_count": 10,
      "outputs": [
        {
          "output_type": "stream",
          "name": "stdout",
          "text": [
            "('Total no. of Gold Medals ', 10486)\n"
          ]
        }
      ]
    },
    {
      "cell_type": "code",
      "metadata": {
        "colab": {
          "base_uri": "https://localhost:8080/"
        },
        "id": "6XtEU0EU4JUe",
        "outputId": "72a92a28-8b5b-446a-e3bc-83261c107eb1"
      },
      "source": [
        "gold_count = []\n",
        "df_gold = df[df['Medal']=='Gold']\n",
        "for value in df_gold['Discipline'].unique():\n",
        "    gold_count.append([value , len(df_gold[df_gold['Discipline']  == value])])\n",
        "gold_count"
      ],
      "execution_count": 11,
      "outputs": [
        {
          "output_type": "execute_result",
          "data": {
            "text/plain": [
              "[['Swimming', 901],\n",
              " ['Athletics', 1215],\n",
              " ['Cycling Road', 107],\n",
              " ['Cycling Track', 250],\n",
              " ['Fencing', 552],\n",
              " ['Artistic G.', 752],\n",
              " ['Shooting', 384],\n",
              " ['Tennis', 92],\n",
              " ['Weightlifting', 200],\n",
              " ['Wrestling Gre-R', 180],\n",
              " ['Water polo', 299],\n",
              " ['Archery', 126],\n",
              " ['Basque Pelota', 2],\n",
              " ['Cricket', 12],\n",
              " ['Croquet', 4],\n",
              " ['Jumping', 114],\n",
              " ['Football', 503],\n",
              " ['Golf', 13],\n",
              " ['Polo', 22],\n",
              " ['Rowing', 890],\n",
              " ['Rugby', 78],\n",
              " ['Sailing', 412],\n",
              " ['Tug of War', 36],\n",
              " ['Diving', 130],\n",
              " ['Boxing', 239],\n",
              " ['Lacrosse', 28],\n",
              " ['Roque', 1],\n",
              " ['Wrestling Free.', 193],\n",
              " ['Hockey', 486],\n",
              " ['Jeu de Paume', 1],\n",
              " ['Rackets', 3],\n",
              " ['Figure skating', 9],\n",
              " ['Water Motorspor', 5],\n",
              " ['Dressage', 88],\n",
              " ['Eventing', 112],\n",
              " ['Modern Pentath.', 58],\n",
              " ['Vaulting', 6],\n",
              " ['Ice Hockey', 8],\n",
              " ['Basketball', 342],\n",
              " ['Canoe / Kayak F', 304],\n",
              " ['Handball', 321],\n",
              " ['Judo', 123],\n",
              " ['Volleyball', 312],\n",
              " ['Canoe / Kayak S', 30],\n",
              " ['Synchronized S.', 52],\n",
              " ['Rhythmic G.', 31],\n",
              " ['Table Tennis', 46],\n",
              " ['Badminton', 46],\n",
              " ['Baseball', 111],\n",
              " ['Mountain Bike', 10],\n",
              " ['Softball', 60],\n",
              " ['Beach volley.', 16],\n",
              " ['Trampoline', 8],\n",
              " ['Taekwondo', 32],\n",
              " ['Triathlon', 8],\n",
              " ['BMX', 2],\n",
              " ['Marathon swimming', 2],\n",
              " ['Synchronized Swimming', 11],\n",
              " ['Water Polo', 26],\n",
              " ['Canoe Slalom', 5],\n",
              " ['Canoe Sprint', 22],\n",
              " ['Cycling BMX', 2],\n",
              " ['Gymnastics Artistic', 22],\n",
              " ['Gymnastics Rhythmic', 7],\n",
              " ['Modern Pentathlon', 2],\n",
              " ['Beach Volleyball', 4],\n",
              " ['Wrestling Freestyle', 18]]"
            ]
          },
          "metadata": {},
          "execution_count": 11
        }
      ]
    },
    {
      "cell_type": "code",
      "metadata": {
        "colab": {
          "base_uri": "https://localhost:8080/",
          "height": 668
        },
        "id": "yR0X210GYMNr",
        "outputId": "486f8c5b-b87d-4abe-f0a1-835690e0d270"
      },
      "source": [
        "#plot a bar graph \n",
        "pd.DataFrame(gold_count,columns = ['Discipline','Frequency']).sort_values(by='Frequency', ascending=False).head().plot(x = 'Discipline', y = 'Frequency', kind = 'bar', figsize = (10,10))"
      ],
      "execution_count": 12,
      "outputs": [
        {
          "output_type": "execute_result",
          "data": {
            "text/plain": [
              "<matplotlib.axes._subplots.AxesSubplot at 0x7f287797a390>"
            ]
          },
          "metadata": {},
          "execution_count": 12
        },
        {
          "output_type": "display_data",
          "data": {
            "image/png": "[encoded data removed]",
            "text/plain": [
              "<Figure size 720x720 with 1 Axes>"
            ]
          },
          "metadata": {
            "needs_background": "light"
          }
        }
      ]
    },
    {
      "cell_type": "markdown",
      "metadata": {
        "id": "JZJffA8v4JUl"
      },
      "source": [
        "### 3. Which sport is having most number of medals so far? (Top 5)"
      ]
    },
    {
      "cell_type": "code",
      "metadata": {
        "id": "A3HWx5Sq4JUo",
        "colab": {
          "base_uri": "https://localhost:8080/"
        },
        "outputId": "f5dd2c77-53ac-4e24-bb84-8108eab219f7"
      },
      "source": [
        "#The Sport which has most no. of medals must be appearing max no. of times in the Discipline column in df.\n",
        "print('The sport having most number of Medals so far is:')\n",
        "print(df['Discipline'].value_counts().idxmax())\n",
        "print('And The number of medals are:')\n",
        "df['Discipline'].value_counts().head(1)"
      ],
      "execution_count": 13,
      "outputs": [
        {
          "output_type": "stream",
          "name": "stdout",
          "text": [
            "The sport having most number of Medals so far is:\n",
            "Athletics\n",
            "And The number of medals are:\n"
          ]
        },
        {
          "output_type": "execute_result",
          "data": {
            "text/plain": [
              "Athletics    3638\n",
              "Name: Discipline, dtype: int64"
            ]
          },
          "metadata": {},
          "execution_count": 13
        }
      ]
    },
    {
      "cell_type": "code",
      "metadata": {
        "colab": {
          "base_uri": "https://localhost:8080/",
          "height": 237
        },
        "id": "MofN_WIV7kPw",
        "outputId": "85b077f7-48aa-42cb-b8c4-6969ebc45856"
      },
      "source": [
        "#The Sport which has most no. of medals must be appearing max no. of times in the Discipline column in df.\n",
        "print('The top 5 sport having most number of Medals so far is:')\n",
        "print('And The number of medals are:')\n",
        "df_5=df['Discipline'].value_counts().head(5)\n",
        "df_5=df_5.to_frame().reset_index().rename(columns={'index':'Sports','Discipline':'No. Of medals'})\n",
        "df_5"
      ],
      "execution_count": 14,
      "outputs": [
        {
          "output_type": "stream",
          "name": "stdout",
          "text": [
            "The top 5 sport having most number of Medals so far is:\n",
            "And The number of medals are:\n"
          ]
        },
        {
          "output_type": "execute_result",
          "data": {
            "text/plain": [
              "        Sports  No. Of medals\n",
              "0    Athletics           3638\n",
              "1       Rowing           2667\n",
              "2     Swimming           2628\n",
              "3  Artistic G.           2103\n",
              "4      Fencing           1613"
            ],
            "text/html": [
              "<div>\n",
              "<style scoped>\n",
              "    .dataframe tbody tr th:only-of-type {\n",
              "        vertical-align: middle;\n",
              "    }\n",
              "\n",
              "    .dataframe tbody tr th {\n",
              "        vertical-align: top;\n",
              "    }\n",
              "\n",
              "    .dataframe thead th {\n",
              "        text-align: right;\n",
              "    }\n",
              "</style>\n",
              "<table border=\"1\" class=\"dataframe\">\n",
              "  <thead>\n",
              "    <tr style=\"text-align: right;\">\n",
              "      <th></th>\n",
              "      <th>Sports</th>\n",
              "      <th>No. Of medals</th>\n",
              "    </tr>\n",
              "  </thead>\n",
              "  <tbody>\n",
              "    <tr>\n",
              "      <th>0</th>\n",
              "      <td>Athletics</td>\n",
              "      <td>3638</td>\n",
              "    </tr>\n",
              "    <tr>\n",
              "      <th>1</th>\n",
              "      <td>Rowing</td>\n",
              "      <td>2667</td>\n",
              "    </tr>\n",
              "    <tr>\n",
              "      <th>2</th>\n",
              "      <td>Swimming</td>\n",
              "      <td>2628</td>\n",
              "    </tr>\n",
              "    <tr>\n",
              "      <th>3</th>\n",
              "      <td>Artistic G.</td>\n",
              "      <td>2103</td>\n",
              "    </tr>\n",
              "    <tr>\n",
              "      <th>4</th>\n",
              "      <td>Fencing</td>\n",
              "      <td>1613</td>\n",
              "    </tr>\n",
              "  </tbody>\n",
              "</table>\n",
              "</div>"
            ]
          },
          "metadata": {},
          "execution_count": 14
        }
      ]
    },
    {
      "cell_type": "code",
      "metadata": {
        "colab": {
          "base_uri": "https://localhost:8080/",
          "height": 266
        },
        "id": "a-21HuzVclqt",
        "outputId": "9d9067c0-1dd9-481f-969f-a5aaa7dea916"
      },
      "source": [
        "most_no_of_medals = df['Discipline'].value_counts().head(5)\n",
        "most_no_of_medals = plt.pie(most_no_of_medals, labels=most_no_of_medals.index)\n",
        "pr_pie_circle = plt.Circle((0,0), 0.8, color='black', fc='white', linewidth=1)\n",
        "p=plt.gcf()\n",
        "p.gca().add_artist(pr_pie_circle)\n",
        "plt.xlabel('Top 5 countries having most no. of medals')\n",
        "plt.show()\n"
      ],
      "execution_count": 15,
      "outputs": [
        {
          "output_type": "display_data",
          "data": {
            "image/png": "[encoded data removed]",
            "text/plain": [
              "<Figure size 432x288 with 1 Axes>"
            ]
          },
          "metadata": {}
        }
      ]
    },
    {
      "cell_type": "markdown",
      "metadata": {
        "id": "gSTQFyvs4JUq"
      },
      "source": [
        "### 4. Which player has won most number of medals? (Top 5)"
      ]
    },
    {
      "cell_type": "code",
      "metadata": {
        "id": "xenWHzt04JUs",
        "colab": {
          "base_uri": "https://localhost:8080/"
        },
        "outputId": "e1dfd761-a9da-4709-cdeb-3bd70fd83ebc"
      },
      "source": [
        "#The player who has most no. of medals must be appearing max no. of times in the Athlete column in df.\n",
        "print('The Player having most number of Medals is:')\n",
        "print(df['Athlete'].value_counts().idxmax())\n",
        "print('And The number of medals are:')\n",
        "df['Athlete'].value_counts().head(1)"
      ],
      "execution_count": 16,
      "outputs": [
        {
          "output_type": "stream",
          "name": "stdout",
          "text": [
            "The Player having most number of Medals is:\n",
            "PHELPS, Michael\n",
            "And The number of medals are:\n"
          ]
        },
        {
          "output_type": "execute_result",
          "data": {
            "text/plain": [
              "PHELPS, Michael    22\n",
              "Name: Athlete, dtype: int64"
            ]
          },
          "metadata": {},
          "execution_count": 16
        }
      ]
    },
    {
      "cell_type": "code",
      "metadata": {
        "colab": {
          "base_uri": "https://localhost:8080/",
          "height": 237
        },
        "id": "kaQj8UVG7OQl",
        "outputId": "a6c8d090-92db-4287-b465-f247076938b6"
      },
      "source": [
        "#The player who has most no. of medals must be appearing max no. of times in the Athlete column in df.\n",
        "print('The top 5 Player having most number of Medals is:')\n",
        "print('And The number of medals are:')\n",
        "df_5=df['Athlete'].value_counts().head(5)\n",
        "df_5=pd.DataFrame(df_5).reset_index().rename(columns={'index':'Player','Athlete':'No. Of medals'})\n",
        "df_5"
      ],
      "execution_count": 17,
      "outputs": [
        {
          "output_type": "stream",
          "name": "stdout",
          "text": [
            "The top 5 Player having most number of Medals is:\n",
            "And The number of medals are:\n"
          ]
        },
        {
          "output_type": "execute_result",
          "data": {
            "text/plain": [
              "                 Player  No. Of medals\n",
              "0       PHELPS, Michael             22\n",
              "1      LATYNINA, Larisa             18\n",
              "2    ANDRIANOV, Nikolay             15\n",
              "3       SHAKHLIN, Boris             13\n",
              "4  MANGIAROTTI, Edoardo             13"
            ],
            "text/html": [
              "<div>\n",
              "<style scoped>\n",
              "    .dataframe tbody tr th:only-of-type {\n",
              "        vertical-align: middle;\n",
              "    }\n",
              "\n",
              "    .dataframe tbody tr th {\n",
              "        vertical-align: top;\n",
              "    }\n",
              "\n",
              "    .dataframe thead th {\n",
              "        text-align: right;\n",
              "    }\n",
              "</style>\n",
              "<table border=\"1\" class=\"dataframe\">\n",
              "  <thead>\n",
              "    <tr style=\"text-align: right;\">\n",
              "      <th></th>\n",
              "      <th>Player</th>\n",
              "      <th>No. Of medals</th>\n",
              "    </tr>\n",
              "  </thead>\n",
              "  <tbody>\n",
              "    <tr>\n",
              "      <th>0</th>\n",
              "      <td>PHELPS, Michael</td>\n",
              "      <td>22</td>\n",
              "    </tr>\n",
              "    <tr>\n",
              "      <th>1</th>\n",
              "      <td>LATYNINA, Larisa</td>\n",
              "      <td>18</td>\n",
              "    </tr>\n",
              "    <tr>\n",
              "      <th>2</th>\n",
              "      <td>ANDRIANOV, Nikolay</td>\n",
              "      <td>15</td>\n",
              "    </tr>\n",
              "    <tr>\n",
              "      <th>3</th>\n",
              "      <td>SHAKHLIN, Boris</td>\n",
              "      <td>13</td>\n",
              "    </tr>\n",
              "    <tr>\n",
              "      <th>4</th>\n",
              "      <td>MANGIAROTTI, Edoardo</td>\n",
              "      <td>13</td>\n",
              "    </tr>\n",
              "  </tbody>\n",
              "</table>\n",
              "</div>"
            ]
          },
          "metadata": {},
          "execution_count": 17
        }
      ]
    },
    {
      "cell_type": "code",
      "metadata": {
        "colab": {
          "base_uri": "https://localhost:8080/",
          "height": 582
        },
        "id": "XHiBKJelSY6a",
        "outputId": "9e334a5e-9d83-44e6-90ad-e8ae4bc92830"
      },
      "source": [
        "#df_5.plot(x = 'Player', y = 'No. Of medals', kind = 'pie', figsize = (5,5))\n",
        "#plt.show()\n",
        "y =df_5.to_numpy()\n",
        "mylabels= y[:,0]\n",
        "plt.figure(figsize=(10,10))\n",
        "plt.pie(y[:,-1],labels=mylabels)\n",
        "plt.show()"
      ],
      "execution_count": 18,
      "outputs": [
        {
          "output_type": "display_data",
          "data": {
            "image/png": "[encoded data removed]",
            "text/plain": [
              "<Figure size 720x720 with 1 Axes>"
            ]
          },
          "metadata": {}
        }
      ]
    },
    {
      "cell_type": "markdown",
      "metadata": {
        "id": "Px5kOxau4JUu"
      },
      "source": [
        "### 5. Which player has won most number Gold Medals of medals? (Top 5)"
      ]
    },
    {
      "cell_type": "code",
      "metadata": {
        "id": "eucdjpw04JUx",
        "colab": {
          "base_uri": "https://localhost:8080/"
        },
        "outputId": "4f1452b2-d529-4ce5-9d3a-f9eb5019dde7"
      },
      "source": [
        "#The player who has most no. of gold medals must be appearing max no. of times in the Athlete column in df_gold.\n",
        "print('The Player having most number of Gold Medals is:')\n",
        "print(df_gold['Athlete'].value_counts().idxmax())\n",
        "print('And The number of medals are:')\n",
        "df_gold['Athlete'].value_counts().head(1)"
      ],
      "execution_count": 19,
      "outputs": [
        {
          "output_type": "stream",
          "name": "stdout",
          "text": [
            "The Player having most number of Gold Medals is:\n",
            "PHELPS, Michael\n",
            "And The number of medals are:\n"
          ]
        },
        {
          "output_type": "execute_result",
          "data": {
            "text/plain": [
              "PHELPS, Michael    18\n",
              "Name: Athlete, dtype: int64"
            ]
          },
          "metadata": {},
          "execution_count": 19
        }
      ]
    },
    {
      "cell_type": "code",
      "metadata": {
        "colab": {
          "base_uri": "https://localhost:8080/",
          "height": 237
        },
        "id": "rKeoj9Tw8BhN",
        "outputId": "458401a2-0147-405a-f170-e399957663b2"
      },
      "source": [
        "#The player who has most no. of gold medals must be appearing max no. of times in the Athlete column in df_gold.\n",
        "print('The top 5 Player having most number of Gold Medals is:')\n",
        "print('And The number of medals are:')\n",
        "df_5=df_gold['Athlete'].value_counts().head(5)\n",
        "df_5=pd.DataFrame(df_5).reset_index().rename(columns={'index':'Player','Athlete':'No. Of medals'})\n",
        "df_5"
      ],
      "execution_count": 20,
      "outputs": [
        {
          "output_type": "stream",
          "name": "stdout",
          "text": [
            "The top 5 Player having most number of Gold Medals is:\n",
            "And The number of medals are:\n"
          ]
        },
        {
          "output_type": "execute_result",
          "data": {
            "text/plain": [
              "             Player  No. Of medals\n",
              "0   PHELPS, Michael             18\n",
              "1       LEWIS, Carl              9\n",
              "2      NURMI, Paavo              9\n",
              "3  LATYNINA, Larisa              9\n",
              "4       SPITZ, Mark              9"
            ],
            "text/html": [
              "<div>\n",
              "<style scoped>\n",
              "    .dataframe tbody tr th:only-of-type {\n",
              "        vertical-align: middle;\n",
              "    }\n",
              "\n",
              "    .dataframe tbody tr th {\n",
              "        vertical-align: top;\n",
              "    }\n",
              "\n",
              "    .dataframe thead th {\n",
              "        text-align: right;\n",
              "    }\n",
              "</style>\n",
              "<table border=\"1\" class=\"dataframe\">\n",
              "  <thead>\n",
              "    <tr style=\"text-align: right;\">\n",
              "      <th></th>\n",
              "      <th>Player</th>\n",
              "      <th>No. Of medals</th>\n",
              "    </tr>\n",
              "  </thead>\n",
              "  <tbody>\n",
              "    <tr>\n",
              "      <th>0</th>\n",
              "      <td>PHELPS, Michael</td>\n",
              "      <td>18</td>\n",
              "    </tr>\n",
              "    <tr>\n",
              "      <th>1</th>\n",
              "      <td>LEWIS, Carl</td>\n",
              "      <td>9</td>\n",
              "    </tr>\n",
              "    <tr>\n",
              "      <th>2</th>\n",
              "      <td>NURMI, Paavo</td>\n",
              "      <td>9</td>\n",
              "    </tr>\n",
              "    <tr>\n",
              "      <th>3</th>\n",
              "      <td>LATYNINA, Larisa</td>\n",
              "      <td>9</td>\n",
              "    </tr>\n",
              "    <tr>\n",
              "      <th>4</th>\n",
              "      <td>SPITZ, Mark</td>\n",
              "      <td>9</td>\n",
              "    </tr>\n",
              "  </tbody>\n",
              "</table>\n",
              "</div>"
            ]
          },
          "metadata": {},
          "execution_count": 20
        }
      ]
    },
    {
      "cell_type": "code",
      "metadata": {
        "colab": {
          "base_uri": "https://localhost:8080/",
          "height": 595
        },
        "id": "Uq4nxYL_V4Ui",
        "outputId": "a233a473-ca72-4a61-c75e-9adb2d009a3d"
      },
      "source": [
        "df_5.plot(x = 'Player', y = 'No. Of medals', kind = 'barh', figsize = (10,10))\n",
        "plt.show()"
      ],
      "execution_count": 21,
      "outputs": [
        {
          "output_type": "display_data",
          "data": {
            "image/png": "[encoded data removed]",
            "text/plain": [
              "<Figure size 720x720 with 1 Axes>"
            ]
          },
          "metadata": {
            "needs_background": "light"
          }
        }
      ]
    },
    {
      "cell_type": "markdown",
      "metadata": {
        "id": "6lBv4owe4JU0"
      },
      "source": [
        "### 6. In which year India won first Gold Medal in Summer Olympics?"
      ]
    },
    {
      "cell_type": "code",
      "metadata": {
        "id": "XWvcEpSh4JU2",
        "colab": {
          "base_uri": "https://localhost:8080/",
          "height": 1000
        },
        "outputId": "f56eb241-b35d-4e72-c668-bb345d24b664"
      },
      "source": [
        "#First we have to filter the dataframe where the country is india and Medal is Gold\n",
        "df_india_gold = df_gold[df_gold['Country']=='IND']\n",
        "df_india_gold\n",
        "\n",
        "#As we can see there are 128 rows."
      ],
      "execution_count": 22,
      "outputs": [
        {
          "output_type": "execute_result",
          "data": {
            "text/plain": [
              "       Year         City     Sport Discipline                       Athlete  \\\n",
              "5512   1928    Amsterdam    Hockey     Hockey          ALLEN, Richard James   \n",
              "5513   1928    Amsterdam    Hockey     Hockey                   CHAND, Dyan   \n",
              "5514   1928    Amsterdam    Hockey     Hockey           GATELEY, Maurice A.   \n",
              "5515   1928    Amsterdam    Hockey     Hockey                   GILL, K. S.   \n",
              "5516   1928    Amsterdam    Hockey     Hockey  GOODSIR-CULLEN, William John   \n",
              "5517   1928    Amsterdam    Hockey     Hockey       HAMMOND, Leslie Charles   \n",
              "5518   1928    Amsterdam    Hockey     Hockey            KHAN, Feroze Uddin   \n",
              "5519   1928    Amsterdam    Hockey     Hockey           MARTHINS, George E.   \n",
              "5520   1928    Amsterdam    Hockey     Hockey                NORRIS, Rex A.   \n",
              "5521   1928    Amsterdam    Hockey     Hockey         PINNIGER, Broome Eric   \n",
              "5522   1928    Amsterdam    Hockey     Hockey            ROCQUE, Michael E.   \n",
              "5523   1928    Amsterdam    Hockey     Hockey           SEAMAN, Frederic S.   \n",
              "5524   1928    Amsterdam    Hockey     Hockey                  SHAUKAT, Ali   \n",
              "5525   1928    Amsterdam    Hockey     Hockey                 SINGH, Jaipal   \n",
              "5526   1928    Amsterdam    Hockey     Hockey          YUSUF, Sayed Mohamed   \n",
              "6122   1932  Los Angeles    Hockey     Hockey             BAIS, Dhyan Chand   \n",
              "6123   1932  Los Angeles    Hockey     Hockey              BAIS, Roop Singh   \n",
              "6124   1932  Los Angeles    Hockey     Hockey             BOKHARI, Lal Shah   \n",
              "6125   1932  Los Angeles    Hockey     Hockey            CARR, Richard John   \n",
              "6126   1932  Los Angeles    Hockey     Hockey       HAMMOND, Leslie Charles   \n",
              "6127   1932  Los Angeles    Hockey     Hockey          HIND, Arthur Charles   \n",
              "6128   1932  Los Angeles    Hockey     Hockey         JAFFAR, Sayed Mohomed   \n",
              "6129   1932  Los Angeles    Hockey     Hockey        MINHAS, Masud Ali Khan   \n",
              "6130   1932  Los Angeles    Hockey     Hockey         PINNIGER, Broome Eric   \n",
              "6131   1932  Los Angeles    Hockey     Hockey          SINGH KULLAR, Gurmit   \n",
              "6132   1932  Los Angeles    Hockey     Hockey       TAPSELL, Carlyle Carrol   \n",
              "6962   1936       Berlin    Hockey     Hockey          ALLEN, Richard James   \n",
              "6963   1936       Berlin    Hockey     Hockey             BAIS, Dhyan Chand   \n",
              "6964   1936       Berlin    Hockey     Hockey              BAIS, Roop Singh   \n",
              "6965   1936       Berlin    Hockey     Hockey   CULLEN-GOODSIR, Ernest John   \n",
              "...     ...          ...       ...        ...                           ...   \n",
              "11357  1964        Tokyo    Hockey     Hockey               LAXMAN, Shankar   \n",
              "11358  1964        Tokyo    Hockey     Hockey                  PATIL, Bandu   \n",
              "11359  1964        Tokyo    Hockey     Hockey            PETER, John Victor   \n",
              "11360  1964        Tokyo    Hockey     Hockey                    SAYED, Ali   \n",
              "11361  1964        Tokyo    Hockey     Hockey           SINGH KULLAR, Udham   \n",
              "11362  1964        Tokyo    Hockey     Hockey              SINGH, Charanjit   \n",
              "11363  1964        Tokyo    Hockey     Hockey                SINGH, Darshan   \n",
              "11364  1964        Tokyo    Hockey     Hockey                 SINGH, Dharam   \n",
              "11365  1964        Tokyo    Hockey     Hockey                 SINGH, Gurbux   \n",
              "11366  1964        Tokyo    Hockey     Hockey              SINGH, Harbinder   \n",
              "11367  1964        Tokyo    Hockey     Hockey                 SINGH, Jagjit   \n",
              "11368  1964        Tokyo    Hockey     Hockey               SINGH, Joginder   \n",
              "11369  1964        Tokyo    Hockey     Hockey              SINGH, Prithipal   \n",
              "16087  1980       Moscow    Hockey     Hockey              ALLAN, Schofield   \n",
              "16088  1980       Moscow    Hockey     Hockey           AMARJIT RANA, Singh   \n",
              "16089  1980       Moscow    Hockey     Hockey            BASKARAN, Baskaran   \n",
              "16090  1980       Moscow    Hockey     Hockey              CHETTRI, Chettri   \n",
              "16091  1980       Moscow    Hockey     Hockey              DEAVINDER, Singh   \n",
              "16092  1980       Moscow    Hockey     Hockey             FERNANDES, Mervyn   \n",
              "16093  1980       Moscow    Hockey     Hockey                GURMAIL, Singh   \n",
              "16094  1980       Moscow    Hockey     Hockey      KAUSHIK, Maharaj Krishon   \n",
              "16095  1980       Moscow    Hockey     Hockey              KUMAR, Charanjit   \n",
              "16096  1980       Moscow    Hockey     Hockey            MANEYPANDA, Somaya   \n",
              "16097  1980       Moscow    Hockey     Hockey              MOHAMMAD, Shahid   \n",
              "16098  1980       Moscow    Hockey     Hockey                  SINGH, Singh   \n",
              "16099  1980       Moscow    Hockey     Hockey                  SINGH, Singh   \n",
              "16100  1980       Moscow    Hockey     Hockey               SURINDER, Singh   \n",
              "16101  1980       Moscow    Hockey     Hockey           SYLVANUS, Dung Dung   \n",
              "16102  1980       Moscow    Hockey     Hockey                  ZAFAR, Zafar   \n",
              "28856  2008      Beijing  Shooting   Shooting               BINDRA, Abhinav   \n",
              "\n",
              "      Country Gender                     Event Medal  \n",
              "5512      IND    Men                    Hockey  Gold  \n",
              "5513      IND    Men                    Hockey  Gold  \n",
              "5514      IND    Men                    Hockey  Gold  \n",
              "5515      IND    Men                    Hockey  Gold  \n",
              "5516      IND    Men                    Hockey  Gold  \n",
              "5517      IND    Men                    Hockey  Gold  \n",
              "5518      IND    Men                    Hockey  Gold  \n",
              "5519      IND    Men                    Hockey  Gold  \n",
              "5520      IND    Men                    Hockey  Gold  \n",
              "5521      IND    Men                    Hockey  Gold  \n",
              "5522      IND    Men                    Hockey  Gold  \n",
              "5523      IND    Men                    Hockey  Gold  \n",
              "5524      IND    Men                    Hockey  Gold  \n",
              "5525      IND    Men                    Hockey  Gold  \n",
              "5526      IND    Men                    Hockey  Gold  \n",
              "6122      IND    Men                    Hockey  Gold  \n",
              "6123      IND    Men                    Hockey  Gold  \n",
              "6124      IND    Men                    Hockey  Gold  \n",
              "6125      IND    Men                    Hockey  Gold  \n",
              "6126      IND    Men                    Hockey  Gold  \n",
              "6127      IND    Men                    Hockey  Gold  \n",
              "6128      IND    Men                    Hockey  Gold  \n",
              "6129      IND    Men                    Hockey  Gold  \n",
              "6130      IND    Men                    Hockey  Gold  \n",
              "6131      IND    Men                    Hockey  Gold  \n",
              "6132      IND    Men                    Hockey  Gold  \n",
              "6962      IND    Men                    Hockey  Gold  \n",
              "6963      IND    Men                    Hockey  Gold  \n",
              "6964      IND    Men                    Hockey  Gold  \n",
              "6965      IND    Men                    Hockey  Gold  \n",
              "...       ...    ...                       ...   ...  \n",
              "11357     IND    Men                    Hockey  Gold  \n",
              "11358     IND    Men                    Hockey  Gold  \n",
              "11359     IND    Men                    Hockey  Gold  \n",
              "11360     IND    Men                    Hockey  Gold  \n",
              "11361     IND    Men                    Hockey  Gold  \n",
              "11362     IND    Men                    Hockey  Gold  \n",
              "11363     IND    Men                    Hockey  Gold  \n",
              "11364     IND    Men                    Hockey  Gold  \n",
              "11365     IND    Men                    Hockey  Gold  \n",
              "11366     IND    Men                    Hockey  Gold  \n",
              "11367     IND    Men                    Hockey  Gold  \n",
              "11368     IND    Men                    Hockey  Gold  \n",
              "11369     IND    Men                    Hockey  Gold  \n",
              "16087     IND    Men                    Hockey  Gold  \n",
              "16088     IND    Men                    Hockey  Gold  \n",
              "16089     IND    Men                    Hockey  Gold  \n",
              "16090     IND    Men                    Hockey  Gold  \n",
              "16091     IND    Men                    Hockey  Gold  \n",
              "16092     IND    Men                    Hockey  Gold  \n",
              "16093     IND    Men                    Hockey  Gold  \n",
              "16094     IND    Men                    Hockey  Gold  \n",
              "16095     IND    Men                    Hockey  Gold  \n",
              "16096     IND    Men                    Hockey  Gold  \n",
              "16097     IND    Men                    Hockey  Gold  \n",
              "16098     IND    Men                    Hockey  Gold  \n",
              "16099     IND    Men                    Hockey  Gold  \n",
              "16100     IND    Men                    Hockey  Gold  \n",
              "16101     IND    Men                    Hockey  Gold  \n",
              "16102     IND    Men                    Hockey  Gold  \n",
              "28856     IND    Men  10M Air Rifle (60 Shots)  Gold  \n",
              "\n",
              "[128 rows x 9 columns]"
            ],
            "text/html": [
              "<div>\n",
              "<style scoped>\n",
              "    .dataframe tbody tr th:only-of-type {\n",
              "        vertical-align: middle;\n",
              "    }\n",
              "\n",
              "    .dataframe tbody tr th {\n",
              "        vertical-align: top;\n",
              "    }\n",
              "\n",
              "    .dataframe thead th {\n",
              "        text-align: right;\n",
              "    }\n",
              "</style>\n",
              "<table border=\"1\" class=\"dataframe\">\n",
              "  <thead>\n",
              "    <tr style=\"text-align: right;\">\n",
              "      <th></th>\n",
              "      <th>Year</th>\n",
              "      <th>City</th>\n",
              "      <th>Sport</th>\n",
              "      <th>Discipline</th>\n",
              "      <th>Athlete</th>\n",
              "      <th>Country</th>\n",
              "      <th>Gender</th>\n",
              "      <th>Event</th>\n",
              "      <th>Medal</th>\n",
              "    </tr>\n",
              "  </thead>\n",
              "  <tbody>\n",
              "    <tr>\n",
              "      <th>5512</th>\n",
              "      <td>1928</td>\n",
              "      <td>Amsterdam</td>\n",
              "      <td>Hockey</td>\n",
              "      <td>Hockey</td>\n",
              "      <td>ALLEN, Richard James</td>\n",
              "      <td>IND</td>\n",
              "      <td>Men</td>\n",
              "      <td>Hockey</td>\n",
              "      <td>Gold</td>\n",
              "    </tr>\n",
              "    <tr>\n",
              "      <th>5513</th>\n",
              "      <td>1928</td>\n",
              "      <td>Amsterdam</td>\n",
              "      <td>Hockey</td>\n",
              "      <td>Hockey</td>\n",
              "      <td>CHAND, Dyan</td>\n",
              "      <td>IND</td>\n",
              "      <td>Men</td>\n",
              "      <td>Hockey</td>\n",
              "      <td>Gold</td>\n",
              "    </tr>\n",
              "    <tr>\n",
              "      <th>5514</th>\n",
              "      <td>1928</td>\n",
              "      <td>Amsterdam</td>\n",
              "      <td>Hockey</td>\n",
              "      <td>Hockey</td>\n",
              "      <td>GATELEY, Maurice A.</td>\n",
              "      <td>IND</td>\n",
              "      <td>Men</td>\n",
              "      <td>Hockey</td>\n",
              "      <td>Gold</td>\n",
              "    </tr>\n",
              "    <tr>\n",
              "      <th>5515</th>\n",
              "      <td>1928</td>\n",
              "      <td>Amsterdam</td>\n",
              "      <td>Hockey</td>\n",
              "      <td>Hockey</td>\n",
              "      <td>GILL, K. S.</td>\n",
              "      <td>IND</td>\n",
              "      <td>Men</td>\n",
              "      <td>Hockey</td>\n",
              "      <td>Gold</td>\n",
              "    </tr>\n",
              "    <tr>\n",
              "      <th>5516</th>\n",
              "      <td>1928</td>\n",
              "      <td>Amsterdam</td>\n",
              "      <td>Hockey</td>\n",
              "      <td>Hockey</td>\n",
              "      <td>GOODSIR-CULLEN, William John</td>\n",
              "      <td>IND</td>\n",
              "      <td>Men</td>\n",
              "      <td>Hockey</td>\n",
              "      <td>Gold</td>\n",
              "    </tr>\n",
              "    <tr>\n",
              "      <th>5517</th>\n",
              "      <td>1928</td>\n",
              "      <td>Amsterdam</td>\n",
              "      <td>Hockey</td>\n",
              "      <td>Hockey</td>\n",
              "      <td>HAMMOND, Leslie Charles</td>\n",
              "      <td>IND</td>\n",
              "      <td>Men</td>\n",
              "      <td>Hockey</td>\n",
              "      <td>Gold</td>\n",
              "    </tr>\n",
              "    <tr>\n",
              "      <th>5518</th>\n",
              "      <td>1928</td>\n",
              "      <td>Amsterdam</td>\n",
              "      <td>Hockey</td>\n",
              "      <td>Hockey</td>\n",
              "      <td>KHAN, Feroze Uddin</td>\n",
              "      <td>IND</td>\n",
              "      <td>Men</td>\n",
              "      <td>Hockey</td>\n",
              "      <td>Gold</td>\n",
              "    </tr>\n",
              "    <tr>\n",
              "      <th>5519</th>\n",
              "      <td>1928</td>\n",
              "      <td>Amsterdam</td>\n",
              "      <td>Hockey</td>\n",
              "      <td>Hockey</td>\n",
              "      <td>MARTHINS, George E.</td>\n",
              "      <td>IND</td>\n",
              "      <td>Men</td>\n",
              "      <td>Hockey</td>\n",
              "      <td>Gold</td>\n",
              "    </tr>\n",
              "    <tr>\n",
              "      <th>5520</th>\n",
              "      <td>1928</td>\n",
              "      <td>Amsterdam</td>\n",
              "      <td>Hockey</td>\n",
              "      <td>Hockey</td>\n",
              "      <td>NORRIS, Rex A.</td>\n",
              "      <td>IND</td>\n",
              "      <td>Men</td>\n",
              "      <td>Hockey</td>\n",
              "      <td>Gold</td>\n",
              "    </tr>\n",
              "    <tr>\n",
              "      <th>5521</th>\n",
              "      <td>1928</td>\n",
              "      <td>Amsterdam</td>\n",
              "      <td>Hockey</td>\n",
              "      <td>Hockey</td>\n",
              "      <td>PINNIGER, Broome Eric</td>\n",
              "      <td>IND</td>\n",
              "      <td>Men</td>\n",
              "      <td>Hockey</td>\n",
              "      <td>Gold</td>\n",
              "    </tr>\n",
              "    <tr>\n",
              "      <th>5522</th>\n",
              "      <td>1928</td>\n",
              "      <td>Amsterdam</td>\n",
              "      <td>Hockey</td>\n",
              "      <td>Hockey</td>\n",
              "      <td>ROCQUE, Michael E.</td>\n",
              "      <td>IND</td>\n",
              "      <td>Men</td>\n",
              "      <td>Hockey</td>\n",
              "      <td>Gold</td>\n",
              "    </tr>\n",
              "    <tr>\n",
              "      <th>5523</th>\n",
              "      <td>1928</td>\n",
              "      <td>Amsterdam</td>\n",
              "      <td>Hockey</td>\n",
              "      <td>Hockey</td>\n",
              "      <td>SEAMAN, Frederic S.</td>\n",
              "      <td>IND</td>\n",
              "      <td>Men</td>\n",
              "      <td>Hockey</td>\n",
              "      <td>Gold</td>\n",
              "    </tr>\n",
              "    <tr>\n",
              "      <th>5524</th>\n",
              "      <td>1928</td>\n",
              "      <td>Amsterdam</td>\n",
              "      <td>Hockey</td>\n",
              "      <td>Hockey</td>\n",
              "      <td>SHAUKAT, Ali</td>\n",
              "      <td>IND</td>\n",
              "      <td>Men</td>\n",
              "      <td>Hockey</td>\n",
              "      <td>Gold</td>\n",
              "    </tr>\n",
              "    <tr>\n",
              "      <th>5525</th>\n",
              "      <td>1928</td>\n",
              "      <td>Amsterdam</td>\n",
              "      <td>Hockey</td>\n",
              "      <td>Hockey</td>\n",
              "      <td>SINGH, Jaipal</td>\n",
              "      <td>IND</td>\n",
              "      <td>Men</td>\n",
              "      <td>Hockey</td>\n",
              "      <td>Gold</td>\n",
              "    </tr>\n",
              "    <tr>\n",
              "      <th>5526</th>\n",
              "      <td>1928</td>\n",
              "      <td>Amsterdam</td>\n",
              "      <td>Hockey</td>\n",
              "      <td>Hockey</td>\n",
              "      <td>YUSUF, Sayed Mohamed</td>\n",
              "      <td>IND</td>\n",
              "      <td>Men</td>\n",
              "      <td>Hockey</td>\n",
              "      <td>Gold</td>\n",
              "    </tr>\n",
              "    <tr>\n",
              "      <th>6122</th>\n",
              "      <td>1932</td>\n",
              "      <td>Los Angeles</td>\n",
              "      <td>Hockey</td>\n",
              "      <td>Hockey</td>\n",
              "      <td>BAIS, Dhyan Chand</td>\n",
              "      <td>IND</td>\n",
              "      <td>Men</td>\n",
              "      <td>Hockey</td>\n",
              "      <td>Gold</td>\n",
              "    </tr>\n",
              "    <tr>\n",
              "      <th>6123</th>\n",
              "      <td>1932</td>\n",
              "      <td>Los Angeles</td>\n",
              "      <td>Hockey</td>\n",
              "      <td>Hockey</td>\n",
              "      <td>BAIS, Roop Singh</td>\n",
              "      <td>IND</td>\n",
              "      <td>Men</td>\n",
              "      <td>Hockey</td>\n",
              "      <td>Gold</td>\n",
              "    </tr>\n",
              "    <tr>\n",
              "      <th>6124</th>\n",
              "      <td>1932</td>\n",
              "      <td>Los Angeles</td>\n",
              "      <td>Hockey</td>\n",
              "      <td>Hockey</td>\n",
              "      <td>BOKHARI, Lal Shah</td>\n",
              "      <td>IND</td>\n",
              "      <td>Men</td>\n",
              "      <td>Hockey</td>\n",
              "      <td>Gold</td>\n",
              "    </tr>\n",
              "    <tr>\n",
              "      <th>6125</th>\n",
              "      <td>1932</td>\n",
              "      <td>Los Angeles</td>\n",
              "      <td>Hockey</td>\n",
              "      <td>Hockey</td>\n",
              "      <td>CARR, Richard John</td>\n",
              "      <td>IND</td>\n",
              "      <td>Men</td>\n",
              "      <td>Hockey</td>\n",
              "      <td>Gold</td>\n",
              "    </tr>\n",
              "    <tr>\n",
              "      <th>6126</th>\n",
              "      <td>1932</td>\n",
              "      <td>Los Angeles</td>\n",
              "      <td>Hockey</td>\n",
              "      <td>Hockey</td>\n",
              "      <td>HAMMOND, Leslie Charles</td>\n",
              "      <td>IND</td>\n",
              "      <td>Men</td>\n",
              "      <td>Hockey</td>\n",
              "      <td>Gold</td>\n",
              "    </tr>\n",
              "    <tr>\n",
              "      <th>6127</th>\n",
              "      <td>1932</td>\n",
              "      <td>Los Angeles</td>\n",
              "      <td>Hockey</td>\n",
              "      <td>Hockey</td>\n",
              "      <td>HIND, Arthur Charles</td>\n",
              "      <td>IND</td>\n",
              "      <td>Men</td>\n",
              "      <td>Hockey</td>\n",
              "      <td>Gold</td>\n",
              "    </tr>\n",
              "    <tr>\n",
              "      <th>6128</th>\n",
              "      <td>1932</td>\n",
              "      <td>Los Angeles</td>\n",
              "      <td>Hockey</td>\n",
              "      <td>Hockey</td>\n",
              "      <td>JAFFAR, Sayed Mohomed</td>\n",
              "      <td>IND</td>\n",
              "      <td>Men</td>\n",
              "      <td>Hockey</td>\n",
              "      <td>Gold</td>\n",
              "    </tr>\n",
              "    <tr>\n",
              "      <th>6129</th>\n",
              "      <td>1932</td>\n",
              "      <td>Los Angeles</td>\n",
              "      <td>Hockey</td>\n",
              "      <td>Hockey</td>\n",
              "      <td>MINHAS, Masud Ali Khan</td>\n",
              "      <td>IND</td>\n",
              "      <td>Men</td>\n",
              "      <td>Hockey</td>\n",
              "      <td>Gold</td>\n",
              "    </tr>\n",
              "    <tr>\n",
              "      <th>6130</th>\n",
              "      <td>1932</td>\n",
              "      <td>Los Angeles</td>\n",
              "      <td>Hockey</td>\n",
              "      <td>Hockey</td>\n",
              "      <td>PINNIGER, Broome Eric</td>\n",
              "      <td>IND</td>\n",
              "      <td>Men</td>\n",
              "      <td>Hockey</td>\n",
              "      <td>Gold</td>\n",
              "    </tr>\n",
              "    <tr>\n",
              "      <th>6131</th>\n",
              "      <td>1932</td>\n",
              "      <td>Los Angeles</td>\n",
              "      <td>Hockey</td>\n",
              "      <td>Hockey</td>\n",
              "      <td>SINGH KULLAR, Gurmit</td>\n",
              "      <td>IND</td>\n",
              "      <td>Men</td>\n",
              "      <td>Hockey</td>\n",
              "      <td>Gold</td>\n",
              "    </tr>\n",
              "    <tr>\n",
              "      <th>6132</th>\n",
              "      <td>1932</td>\n",
              "      <td>Los Angeles</td>\n",
              "      <td>Hockey</td>\n",
              "      <td>Hockey</td>\n",
              "      <td>TAPSELL, Carlyle Carrol</td>\n",
              "      <td>IND</td>\n",
              "      <td>Men</td>\n",
              "      <td>Hockey</td>\n",
              "      <td>Gold</td>\n",
              "    </tr>\n",
              "    <tr>\n",
              "      <th>6962</th>\n",
              "      <td>1936</td>\n",
              "      <td>Berlin</td>\n",
              "      <td>Hockey</td>\n",
              "      <td>Hockey</td>\n",
              "      <td>ALLEN, Richard James</td>\n",
              "      <td>IND</td>\n",
              "      <td>Men</td>\n",
              "      <td>Hockey</td>\n",
              "      <td>Gold</td>\n",
              "    </tr>\n",
              "    <tr>\n",
              "      <th>6963</th>\n",
              "      <td>1936</td>\n",
              "      <td>Berlin</td>\n",
              "      <td>Hockey</td>\n",
              "      <td>Hockey</td>\n",
              "      <td>BAIS, Dhyan Chand</td>\n",
              "      <td>IND</td>\n",
              "      <td>Men</td>\n",
              "      <td>Hockey</td>\n",
              "      <td>Gold</td>\n",
              "    </tr>\n",
              "    <tr>\n",
              "      <th>6964</th>\n",
              "      <td>1936</td>\n",
              "      <td>Berlin</td>\n",
              "      <td>Hockey</td>\n",
              "      <td>Hockey</td>\n",
              "      <td>BAIS, Roop Singh</td>\n",
              "      <td>IND</td>\n",
              "      <td>Men</td>\n",
              "      <td>Hockey</td>\n",
              "      <td>Gold</td>\n",
              "    </tr>\n",
              "    <tr>\n",
              "      <th>6965</th>\n",
              "      <td>1936</td>\n",
              "      <td>Berlin</td>\n",
              "      <td>Hockey</td>\n",
              "      <td>Hockey</td>\n",
              "      <td>CULLEN-GOODSIR, Ernest John</td>\n",
              "      <td>IND</td>\n",
              "      <td>Men</td>\n",
              "      <td>Hockey</td>\n",
              "      <td>Gold</td>\n",
              "    </tr>\n",
              "    <tr>\n",
              "      <th>...</th>\n",
              "      <td>...</td>\n",
              "      <td>...</td>\n",
              "      <td>...</td>\n",
              "      <td>...</td>\n",
              "      <td>...</td>\n",
              "      <td>...</td>\n",
              "      <td>...</td>\n",
              "      <td>...</td>\n",
              "      <td>...</td>\n",
              "    </tr>\n",
              "    <tr>\n",
              "      <th>11357</th>\n",
              "      <td>1964</td>\n",
              "      <td>Tokyo</td>\n",
              "      <td>Hockey</td>\n",
              "      <td>Hockey</td>\n",
              "      <td>LAXMAN, Shankar</td>\n",
              "      <td>IND</td>\n",
              "      <td>Men</td>\n",
              "      <td>Hockey</td>\n",
              "      <td>Gold</td>\n",
              "    </tr>\n",
              "    <tr>\n",
              "      <th>11358</th>\n",
              "      <td>1964</td>\n",
              "      <td>Tokyo</td>\n",
              "      <td>Hockey</td>\n",
              "      <td>Hockey</td>\n",
              "      <td>PATIL, Bandu</td>\n",
              "      <td>IND</td>\n",
              "      <td>Men</td>\n",
              "      <td>Hockey</td>\n",
              "      <td>Gold</td>\n",
              "    </tr>\n",
              "    <tr>\n",
              "      <th>11359</th>\n",
              "      <td>1964</td>\n",
              "      <td>Tokyo</td>\n",
              "      <td>Hockey</td>\n",
              "      <td>Hockey</td>\n",
              "      <td>PETER, John Victor</td>\n",
              "      <td>IND</td>\n",
              "      <td>Men</td>\n",
              "      <td>Hockey</td>\n",
              "      <td>Gold</td>\n",
              "    </tr>\n",
              "    <tr>\n",
              "      <th>11360</th>\n",
              "      <td>1964</td>\n",
              "      <td>Tokyo</td>\n",
              "      <td>Hockey</td>\n",
              "      <td>Hockey</td>\n",
              "      <td>SAYED, Ali</td>\n",
              "      <td>IND</td>\n",
              "      <td>Men</td>\n",
              "      <td>Hockey</td>\n",
              "      <td>Gold</td>\n",
              "    </tr>\n",
              "    <tr>\n",
              "      <th>11361</th>\n",
              "      <td>1964</td>\n",
              "      <td>Tokyo</td>\n",
              "      <td>Hockey</td>\n",
              "      <td>Hockey</td>\n",
              "      <td>SINGH KULLAR, Udham</td>\n",
              "      <td>IND</td>\n",
              "      <td>Men</td>\n",
              "      <td>Hockey</td>\n",
              "      <td>Gold</td>\n",
              "    </tr>\n",
              "    <tr>\n",
              "      <th>11362</th>\n",
              "      <td>1964</td>\n",
              "      <td>Tokyo</td>\n",
              "      <td>Hockey</td>\n",
              "      <td>Hockey</td>\n",
              "      <td>SINGH, Charanjit</td>\n",
              "      <td>IND</td>\n",
              "      <td>Men</td>\n",
              "      <td>Hockey</td>\n",
              "      <td>Gold</td>\n",
              "    </tr>\n",
              "    <tr>\n",
              "      <th>11363</th>\n",
              "      <td>1964</td>\n",
              "      <td>Tokyo</td>\n",
              "      <td>Hockey</td>\n",
              "      <td>Hockey</td>\n",
              "      <td>SINGH, Darshan</td>\n",
              "      <td>IND</td>\n",
              "      <td>Men</td>\n",
              "      <td>Hockey</td>\n",
              "      <td>Gold</td>\n",
              "    </tr>\n",
              "    <tr>\n",
              "      <th>11364</th>\n",
              "      <td>1964</td>\n",
              "      <td>Tokyo</td>\n",
              "      <td>Hockey</td>\n",
              "      <td>Hockey</td>\n",
              "      <td>SINGH, Dharam</td>\n",
              "      <td>IND</td>\n",
              "      <td>Men</td>\n",
              "      <td>Hockey</td>\n",
              "      <td>Gold</td>\n",
              "    </tr>\n",
              "    <tr>\n",
              "      <th>11365</th>\n",
              "      <td>1964</td>\n",
              "      <td>Tokyo</td>\n",
              "      <td>Hockey</td>\n",
              "      <td>Hockey</td>\n",
              "      <td>SINGH, Gurbux</td>\n",
              "      <td>IND</td>\n",
              "      <td>Men</td>\n",
              "      <td>Hockey</td>\n",
              "      <td>Gold</td>\n",
              "    </tr>\n",
              "    <tr>\n",
              "      <th>11366</th>\n",
              "      <td>1964</td>\n",
              "      <td>Tokyo</td>\n",
              "      <td>Hockey</td>\n",
              "      <td>Hockey</td>\n",
              "      <td>SINGH, Harbinder</td>\n",
              "      <td>IND</td>\n",
              "      <td>Men</td>\n",
              "      <td>Hockey</td>\n",
              "      <td>Gold</td>\n",
              "    </tr>\n",
              "    <tr>\n",
              "      <th>11367</th>\n",
              "      <td>1964</td>\n",
              "      <td>Tokyo</td>\n",
              "      <td>Hockey</td>\n",
              "      <td>Hockey</td>\n",
              "      <td>SINGH, Jagjit</td>\n",
              "      <td>IND</td>\n",
              "      <td>Men</td>\n",
              "      <td>Hockey</td>\n",
              "      <td>Gold</td>\n",
              "    </tr>\n",
              "    <tr>\n",
              "      <th>11368</th>\n",
              "      <td>1964</td>\n",
              "      <td>Tokyo</td>\n",
              "      <td>Hockey</td>\n",
              "      <td>Hockey</td>\n",
              "      <td>SINGH, Joginder</td>\n",
              "      <td>IND</td>\n",
              "      <td>Men</td>\n",
              "      <td>Hockey</td>\n",
              "      <td>Gold</td>\n",
              "    </tr>\n",
              "    <tr>\n",
              "      <th>11369</th>\n",
              "      <td>1964</td>\n",
              "      <td>Tokyo</td>\n",
              "      <td>Hockey</td>\n",
              "      <td>Hockey</td>\n",
              "      <td>SINGH, Prithipal</td>\n",
              "      <td>IND</td>\n",
              "      <td>Men</td>\n",
              "      <td>Hockey</td>\n",
              "      <td>Gold</td>\n",
              "    </tr>\n",
              "    <tr>\n",
              "      <th>16087</th>\n",
              "      <td>1980</td>\n",
              "      <td>Moscow</td>\n",
              "      <td>Hockey</td>\n",
              "      <td>Hockey</td>\n",
              "      <td>ALLAN, Schofield</td>\n",
              "      <td>IND</td>\n",
              "      <td>Men</td>\n",
              "      <td>Hockey</td>\n",
              "      <td>Gold</td>\n",
              "    </tr>\n",
              "    <tr>\n",
              "      <th>16088</th>\n",
              "      <td>1980</td>\n",
              "      <td>Moscow</td>\n",
              "      <td>Hockey</td>\n",
              "      <td>Hockey</td>\n",
              "      <td>AMARJIT RANA, Singh</td>\n",
              "      <td>IND</td>\n",
              "      <td>Men</td>\n",
              "      <td>Hockey</td>\n",
              "      <td>Gold</td>\n",
              "    </tr>\n",
              "    <tr>\n",
              "      <th>16089</th>\n",
              "      <td>1980</td>\n",
              "      <td>Moscow</td>\n",
              "      <td>Hockey</td>\n",
              "      <td>Hockey</td>\n",
              "      <td>BASKARAN, Baskaran</td>\n",
              "      <td>IND</td>\n",
              "      <td>Men</td>\n",
              "      <td>Hockey</td>\n",
              "      <td>Gold</td>\n",
              "    </tr>\n",
              "    <tr>\n",
              "      <th>16090</th>\n",
              "      <td>1980</td>\n",
              "      <td>Moscow</td>\n",
              "      <td>Hockey</td>\n",
              "      <td>Hockey</td>\n",
              "      <td>CHETTRI, Chettri</td>\n",
              "      <td>IND</td>\n",
              "      <td>Men</td>\n",
              "      <td>Hockey</td>\n",
              "      <td>Gold</td>\n",
              "    </tr>\n",
              "    <tr>\n",
              "      <th>16091</th>\n",
              "      <td>1980</td>\n",
              "      <td>Moscow</td>\n",
              "      <td>Hockey</td>\n",
              "      <td>Hockey</td>\n",
              "      <td>DEAVINDER, Singh</td>\n",
              "      <td>IND</td>\n",
              "      <td>Men</td>\n",
              "      <td>Hockey</td>\n",
              "      <td>Gold</td>\n",
              "    </tr>\n",
              "    <tr>\n",
              "      <th>16092</th>\n",
              "      <td>1980</td>\n",
              "      <td>Moscow</td>\n",
              "      <td>Hockey</td>\n",
              "      <td>Hockey</td>\n",
              "      <td>FERNANDES, Mervyn</td>\n",
              "      <td>IND</td>\n",
              "      <td>Men</td>\n",
              "      <td>Hockey</td>\n",
              "      <td>Gold</td>\n",
              "    </tr>\n",
              "    <tr>\n",
              "      <th>16093</th>\n",
              "      <td>1980</td>\n",
              "      <td>Moscow</td>\n",
              "      <td>Hockey</td>\n",
              "      <td>Hockey</td>\n",
              "      <td>GURMAIL, Singh</td>\n",
              "      <td>IND</td>\n",
              "      <td>Men</td>\n",
              "      <td>Hockey</td>\n",
              "      <td>Gold</td>\n",
              "    </tr>\n",
              "    <tr>\n",
              "      <th>16094</th>\n",
              "      <td>1980</td>\n",
              "      <td>Moscow</td>\n",
              "      <td>Hockey</td>\n",
              "      <td>Hockey</td>\n",
              "      <td>KAUSHIK, Maharaj Krishon</td>\n",
              "      <td>IND</td>\n",
              "      <td>Men</td>\n",
              "      <td>Hockey</td>\n",
              "      <td>Gold</td>\n",
              "    </tr>\n",
              "    <tr>\n",
              "      <th>16095</th>\n",
              "      <td>1980</td>\n",
              "      <td>Moscow</td>\n",
              "      <td>Hockey</td>\n",
              "      <td>Hockey</td>\n",
              "      <td>KUMAR, Charanjit</td>\n",
              "      <td>IND</td>\n",
              "      <td>Men</td>\n",
              "      <td>Hockey</td>\n",
              "      <td>Gold</td>\n",
              "    </tr>\n",
              "    <tr>\n",
              "      <th>16096</th>\n",
              "      <td>1980</td>\n",
              "      <td>Moscow</td>\n",
              "      <td>Hockey</td>\n",
              "      <td>Hockey</td>\n",
              "      <td>MANEYPANDA, Somaya</td>\n",
              "      <td>IND</td>\n",
              "      <td>Men</td>\n",
              "      <td>Hockey</td>\n",
              "      <td>Gold</td>\n",
              "    </tr>\n",
              "    <tr>\n",
              "      <th>16097</th>\n",
              "      <td>1980</td>\n",
              "      <td>Moscow</td>\n",
              "      <td>Hockey</td>\n",
              "      <td>Hockey</td>\n",
              "      <td>MOHAMMAD, Shahid</td>\n",
              "      <td>IND</td>\n",
              "      <td>Men</td>\n",
              "      <td>Hockey</td>\n",
              "      <td>Gold</td>\n",
              "    </tr>\n",
              "    <tr>\n",
              "      <th>16098</th>\n",
              "      <td>1980</td>\n",
              "      <td>Moscow</td>\n",
              "      <td>Hockey</td>\n",
              "      <td>Hockey</td>\n",
              "      <td>SINGH, Singh</td>\n",
              "      <td>IND</td>\n",
              "      <td>Men</td>\n",
              "      <td>Hockey</td>\n",
              "      <td>Gold</td>\n",
              "    </tr>\n",
              "    <tr>\n",
              "      <th>16099</th>\n",
              "      <td>1980</td>\n",
              "      <td>Moscow</td>\n",
              "      <td>Hockey</td>\n",
              "      <td>Hockey</td>\n",
              "      <td>SINGH, Singh</td>\n",
              "      <td>IND</td>\n",
              "      <td>Men</td>\n",
              "      <td>Hockey</td>\n",
              "      <td>Gold</td>\n",
              "    </tr>\n",
              "    <tr>\n",
              "      <th>16100</th>\n",
              "      <td>1980</td>\n",
              "      <td>Moscow</td>\n",
              "      <td>Hockey</td>\n",
              "      <td>Hockey</td>\n",
              "      <td>SURINDER, Singh</td>\n",
              "      <td>IND</td>\n",
              "      <td>Men</td>\n",
              "      <td>Hockey</td>\n",
              "      <td>Gold</td>\n",
              "    </tr>\n",
              "    <tr>\n",
              "      <th>16101</th>\n",
              "      <td>1980</td>\n",
              "      <td>Moscow</td>\n",
              "      <td>Hockey</td>\n",
              "      <td>Hockey</td>\n",
              "      <td>SYLVANUS, Dung Dung</td>\n",
              "      <td>IND</td>\n",
              "      <td>Men</td>\n",
              "      <td>Hockey</td>\n",
              "      <td>Gold</td>\n",
              "    </tr>\n",
              "    <tr>\n",
              "      <th>16102</th>\n",
              "      <td>1980</td>\n",
              "      <td>Moscow</td>\n",
              "      <td>Hockey</td>\n",
              "      <td>Hockey</td>\n",
              "      <td>ZAFAR, Zafar</td>\n",
              "      <td>IND</td>\n",
              "      <td>Men</td>\n",
              "      <td>Hockey</td>\n",
              "      <td>Gold</td>\n",
              "    </tr>\n",
              "    <tr>\n",
              "      <th>28856</th>\n",
              "      <td>2008</td>\n",
              "      <td>Beijing</td>\n",
              "      <td>Shooting</td>\n",
              "      <td>Shooting</td>\n",
              "      <td>BINDRA, Abhinav</td>\n",
              "      <td>IND</td>\n",
              "      <td>Men</td>\n",
              "      <td>10M Air Rifle (60 Shots)</td>\n",
              "      <td>Gold</td>\n",
              "    </tr>\n",
              "  </tbody>\n",
              "</table>\n",
              "<p>128 rows × 9 columns</p>\n",
              "</div>"
            ]
          },
          "metadata": {},
          "execution_count": 22
        }
      ]
    },
    {
      "cell_type": "code",
      "metadata": {
        "colab": {
          "base_uri": "https://localhost:8080/"
        },
        "id": "KG_5ttesmHCj",
        "outputId": "f9c2278d-b136-409c-e868-022f85b2a42f"
      },
      "source": [
        "print('India won its First Gold Medal in Summer Olympics in Year:')\n",
        "df_india_gold.sort_values(by='Year').head(1)['Year'].values[0]"
      ],
      "execution_count": 23,
      "outputs": [
        {
          "output_type": "stream",
          "name": "stdout",
          "text": [
            "India won its First Gold Medal in Summer Olympics in Year:\n"
          ]
        },
        {
          "output_type": "execute_result",
          "data": {
            "text/plain": [
              "1928"
            ]
          },
          "metadata": {},
          "execution_count": 23
        }
      ]
    },
    {
      "cell_type": "markdown",
      "metadata": {
        "id": "lglKseWF4JU4"
      },
      "source": [
        "### 7. Which event is most popular in terms on number of players? (Top 5)"
      ]
    },
    {
      "cell_type": "code",
      "metadata": {
        "id": "zdtjYGtN4JU6",
        "colab": {
          "base_uri": "https://localhost:8080/"
        },
        "outputId": "a2e356be-07f1-4add-b0be-2b1c950ca093"
      },
      "source": [
        "print('The event which is most popular in terms of number of players is :')\n",
        "print(df['Event'].value_counts().idxmax())\n",
        "print('And the number of players')\n",
        "df['Event'].value_counts().head(1).values[0]"
      ],
      "execution_count": 24,
      "outputs": [
        {
          "output_type": "stream",
          "name": "stdout",
          "text": [
            "The event which is most popular in terms of number of players is :\n",
            "Football\n",
            "And the number of players\n"
          ]
        },
        {
          "output_type": "execute_result",
          "data": {
            "text/plain": [
              "1497"
            ]
          },
          "metadata": {},
          "execution_count": 24
        }
      ]
    },
    {
      "cell_type": "code",
      "metadata": {
        "colab": {
          "base_uri": "https://localhost:8080/",
          "height": 237
        },
        "id": "8s__dLQZ-NqM",
        "outputId": "77d2db04-4db4-484d-981b-5515b319257f"
      },
      "source": [
        "print('The top 5 event which is most popular in terms of number of players is :')\n",
        "print('And the number of players')\n",
        "df_5=df['Event'].value_counts().head(5)\n",
        "df_5=pd.DataFrame(df_5).reset_index().rename(columns={'index':'Events','Event':'No. Of Players'})\n",
        "df_5"
      ],
      "execution_count": 25,
      "outputs": [
        {
          "output_type": "stream",
          "name": "stdout",
          "text": [
            "The top 5 event which is most popular in terms of number of players is :\n",
            "And the number of players\n"
          ]
        },
        {
          "output_type": "execute_result",
          "data": {
            "text/plain": [
              "             Events  No. Of Players\n",
              "0          Football            1497\n",
              "1            Hockey            1422\n",
              "2  Team Competition            1147\n",
              "3        Basketball            1012\n",
              "4          Handball             973"
            ],
            "text/html": [
              "<div>\n",
              "<style scoped>\n",
              "    .dataframe tbody tr th:only-of-type {\n",
              "        vertical-align: middle;\n",
              "    }\n",
              "\n",
              "    .dataframe tbody tr th {\n",
              "        vertical-align: top;\n",
              "    }\n",
              "\n",
              "    .dataframe thead th {\n",
              "        text-align: right;\n",
              "    }\n",
              "</style>\n",
              "<table border=\"1\" class=\"dataframe\">\n",
              "  <thead>\n",
              "    <tr style=\"text-align: right;\">\n",
              "      <th></th>\n",
              "      <th>Events</th>\n",
              "      <th>No. Of Players</th>\n",
              "    </tr>\n",
              "  </thead>\n",
              "  <tbody>\n",
              "    <tr>\n",
              "      <th>0</th>\n",
              "      <td>Football</td>\n",
              "      <td>1497</td>\n",
              "    </tr>\n",
              "    <tr>\n",
              "      <th>1</th>\n",
              "      <td>Hockey</td>\n",
              "      <td>1422</td>\n",
              "    </tr>\n",
              "    <tr>\n",
              "      <th>2</th>\n",
              "      <td>Team Competition</td>\n",
              "      <td>1147</td>\n",
              "    </tr>\n",
              "    <tr>\n",
              "      <th>3</th>\n",
              "      <td>Basketball</td>\n",
              "      <td>1012</td>\n",
              "    </tr>\n",
              "    <tr>\n",
              "      <th>4</th>\n",
              "      <td>Handball</td>\n",
              "      <td>973</td>\n",
              "    </tr>\n",
              "  </tbody>\n",
              "</table>\n",
              "</div>"
            ]
          },
          "metadata": {},
          "execution_count": 25
        }
      ]
    },
    {
      "cell_type": "code",
      "metadata": {
        "colab": {
          "base_uri": "https://localhost:8080/",
          "height": 691
        },
        "id": "1mS7cgThW6C4",
        "outputId": "ffb3f91c-89e4-4e81-f83d-511ec9781d98"
      },
      "source": [
        "df_5.plot(x = 'Events', y = 'No. Of Players', kind = 'bar', figsize = (10,10))\n",
        "plt.show()"
      ],
      "execution_count": 26,
      "outputs": [
        {
          "output_type": "display_data",
          "data": {
            "image/png": "[encoded data removed]",
            "text/plain": [
              "<Figure size 720x720 with 1 Axes>"
            ]
          },
          "metadata": {
            "needs_background": "light"
          }
        }
      ]
    },
    {
      "cell_type": "markdown",
      "metadata": {
        "id": "c5SLLF3b4JU7"
      },
      "source": [
        "### 8. Which sport is having most female Gold Medalists? (Top 5)"
      ]
    },
    {
      "cell_type": "code",
      "metadata": {
        "colab": {
          "base_uri": "https://localhost:8080/"
        },
        "id": "6OVhKHWh-Mo0",
        "outputId": "d8bd3504-4b8b-478e-927d-b01fae49cf8b"
      },
      "source": [
        "df_female = df_gold[df_gold['Gender']=='Women']\n",
        "df_female['Sport'].value_counts()"
      ],
      "execution_count": 27,
      "outputs": [
        {
          "output_type": "execute_result",
          "data": {
            "text/plain": [
              "Aquatics             589\n",
              "Athletics            389\n",
              "Gymnastics           268\n",
              "Rowing               217\n",
              "Volleyball           166\n",
              "Hockey               144\n",
              "Handball             142\n",
              "Basketball           120\n",
              "Fencing              108\n",
              "Football              86\n",
              "Canoe / Kayak         76\n",
              "Softball              60\n",
              "Equestrian            51\n",
              "Cycling               45\n",
              "Shooting              43\n",
              "Judo                  42\n",
              "Archery               39\n",
              "Sailing               38\n",
              "Tennis                38\n",
              "Weightlifting         28\n",
              "Table Tennis          23\n",
              "Badminton             23\n",
              "Taekwondo             16\n",
              "Wrestling             12\n",
              "Canoe                  9\n",
              "Modern Pentathlon      4\n",
              "Triathlon              4\n",
              "Skating                4\n",
              "Boxing                 3\n",
              "Golf                   1\n",
              "Name: Sport, dtype: int64"
            ]
          },
          "metadata": {},
          "execution_count": 27
        }
      ]
    },
    {
      "cell_type": "code",
      "metadata": {
        "id": "I8Z4PYIL4JU9",
        "colab": {
          "base_uri": "https://localhost:8080/"
        },
        "outputId": "9de177dc-0359-4184-adbf-169c2478ecff"
      },
      "source": [
        "print('The sport having most female gold medalist is :')\n",
        "print(df_female['Sport'].value_counts().idxmax())\n",
        "print('And the number of female players are :')\n",
        "df_female['Sport'].value_counts().head(1).values[0]"
      ],
      "execution_count": 28,
      "outputs": [
        {
          "output_type": "stream",
          "name": "stdout",
          "text": [
            "The sport having most female gold medalist is :\n",
            "Aquatics\n",
            "And the number of female players are :\n"
          ]
        },
        {
          "output_type": "execute_result",
          "data": {
            "text/plain": [
              "589"
            ]
          },
          "metadata": {},
          "execution_count": 28
        }
      ]
    },
    {
      "cell_type": "code",
      "metadata": {
        "colab": {
          "base_uri": "https://localhost:8080/",
          "height": 237
        },
        "id": "VQAeNKAC_7B8",
        "outputId": "ba1487a9-7f5c-45b9-f5d3-405b7cd0c6a1"
      },
      "source": [
        "print('The top 5 sport having most female gold medalist is :')\n",
        "print('And the number of players are :')\n",
        "df_5=df_female['Sport'].value_counts().head(5)\n",
        "df_5=df_5.to_frame().reset_index().rename(columns={'index':'Sports','Sport':'No. Of Players'})\n",
        "df_5"
      ],
      "execution_count": 29,
      "outputs": [
        {
          "output_type": "stream",
          "name": "stdout",
          "text": [
            "The top 5 sport having most female gold medalist is :\n",
            "And the number of players are :\n"
          ]
        },
        {
          "output_type": "execute_result",
          "data": {
            "text/plain": [
              "       Sports  No. Of Players\n",
              "0    Aquatics             589\n",
              "1   Athletics             389\n",
              "2  Gymnastics             268\n",
              "3      Rowing             217\n",
              "4  Volleyball             166"
            ],
            "text/html": [
              "<div>\n",
              "<style scoped>\n",
              "    .dataframe tbody tr th:only-of-type {\n",
              "        vertical-align: middle;\n",
              "    }\n",
              "\n",
              "    .dataframe tbody tr th {\n",
              "        vertical-align: top;\n",
              "    }\n",
              "\n",
              "    .dataframe thead th {\n",
              "        text-align: right;\n",
              "    }\n",
              "</style>\n",
              "<table border=\"1\" class=\"dataframe\">\n",
              "  <thead>\n",
              "    <tr style=\"text-align: right;\">\n",
              "      <th></th>\n",
              "      <th>Sports</th>\n",
              "      <th>No. Of Players</th>\n",
              "    </tr>\n",
              "  </thead>\n",
              "  <tbody>\n",
              "    <tr>\n",
              "      <th>0</th>\n",
              "      <td>Aquatics</td>\n",
              "      <td>589</td>\n",
              "    </tr>\n",
              "    <tr>\n",
              "      <th>1</th>\n",
              "      <td>Athletics</td>\n",
              "      <td>389</td>\n",
              "    </tr>\n",
              "    <tr>\n",
              "      <th>2</th>\n",
              "      <td>Gymnastics</td>\n",
              "      <td>268</td>\n",
              "    </tr>\n",
              "    <tr>\n",
              "      <th>3</th>\n",
              "      <td>Rowing</td>\n",
              "      <td>217</td>\n",
              "    </tr>\n",
              "    <tr>\n",
              "      <th>4</th>\n",
              "      <td>Volleyball</td>\n",
              "      <td>166</td>\n",
              "    </tr>\n",
              "  </tbody>\n",
              "</table>\n",
              "</div>"
            ]
          },
          "metadata": {},
          "execution_count": 29
        }
      ]
    },
    {
      "cell_type": "code",
      "metadata": {
        "colab": {
          "base_uri": "https://localhost:8080/",
          "height": 609
        },
        "id": "2MMOtCtUAnaD",
        "outputId": "4a5eaaab-aa35-432c-af25-c366c1a471c3"
      },
      "source": [
        "df_5.plot(x = 'Sports', y = 'No. Of Players', kind = 'area', figsize = (10,10))\n",
        "plt.show()"
      ],
      "execution_count": 30,
      "outputs": [
        {
          "output_type": "display_data",
          "data": {
            "image/png": "[encoded data removed]",
            "text/plain": [
              "<Figure size 720x720 with 1 Axes>"
            ]
          },
          "metadata": {
            "needs_background": "light"
          }
        }
      ]
    }
  ]
}